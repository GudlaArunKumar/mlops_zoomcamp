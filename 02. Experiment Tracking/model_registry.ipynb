{
 "cells": [
  {
   "cell_type": "markdown",
   "id": "84e055e5",
   "metadata": {},
   "source": [
    "#### Understanding Model management & Model registry\n",
    "\n",
    "Before registring the model, look for below factors while deciding\n",
    "\n",
    "* Model Run time\n",
    "* Memory occupied (size of the model)\n",
    "* Model metric\n",
    "* computation engine (cpu or gpu)\n"
   ]
  },
  {
   "cell_type": "code",
   "execution_count": 1,
   "id": "0816a181",
   "metadata": {},
   "outputs": [],
   "source": [
    "import mlflow\n",
    "from mlflow.tracking import MlflowClient\n",
    "\n",
    "MLFLOW_TRACKING_URI = \"sqlite:///mlflow.db\"\n",
    "mlflow.set_tracking_uri(\"sqlite:///mlflow.db\")\n",
    "\n",
    "client = MlflowClient(tracking_uri=MLFLOW_TRACKING_URI)"
   ]
  },
  {
   "cell_type": "code",
   "execution_count": 7,
   "id": "15fdb7ac",
   "metadata": {},
   "outputs": [
    {
     "data": {
      "text/plain": [
       "<Experiment: artifact_location=('/mnt/e/Machine_Learning_Projects/mlops_zoomcamp/02. Experiment '\n",
       " 'Tracking/mlruns/1'), creation_time=1748346800773, experiment_id='1', last_update_time=1748346800773, lifecycle_stage='active', name='nyc_taxi_experiment', tags={}>"
      ]
     },
     "execution_count": 7,
     "metadata": {},
     "output_type": "execute_result"
    }
   ],
   "source": [
    "# using client to interact with mlflow \n",
    "\n",
    "client.get_experiment_by_name(\"nyc_taxi_experiment\")"
   ]
  },
  {
   "cell_type": "code",
   "execution_count": 4,
   "id": "fa22dac3",
   "metadata": {},
   "outputs": [
    {
     "data": {
      "text/plain": [
       "'2'"
      ]
     },
     "execution_count": 4,
     "metadata": {},
     "output_type": "execute_result"
    }
   ],
   "source": [
    "# to create an experiment \n",
    "\n",
    "client.create_experiment(\"test_experiment\")"
   ]
  },
  {
   "cell_type": "code",
   "execution_count": 8,
   "id": "27eb6d97",
   "metadata": {},
   "outputs": [],
   "source": [
    "# To get the best run from an experiment using below options which can be altered according to user needs\n",
    "\n",
    "from mlflow.entities import ViewType \n",
    "\n",
    "runs = client.search_runs(\n",
    "    experiment_ids=\"1\",\n",
    "    filter_string=\"\",\n",
    "    run_view_type=ViewType.ACTIVE_ONLY,\n",
    "    max_results=5,\n",
    "    order_by=[\"metrics.rmse ASC\"]\n",
    ")"
   ]
  },
  {
   "cell_type": "code",
   "execution_count": 9,
   "id": "da63dbe4",
   "metadata": {},
   "outputs": [
    {
     "name": "stdout",
     "output_type": "stream",
     "text": [
      "run id: fcc2bf18b2fa4bc08373d785d468f483, rmse: 6.3609\n",
      "run id: 7c921450488b458dbb56cc412da1d7a4, rmse: 6.3862\n",
      "run id: 0e4d985c497f425693171efcb7d295f2, rmse: 6.4211\n",
      "run id: 946a4ca7486c46c58d3d4f657badb516, rmse: 6.4681\n",
      "run id: b3a609db575b4bf3936842da219f5811, rmse: 6.4697\n"
     ]
    }
   ],
   "source": [
    "for run in runs:\n",
    "    print(f\"run id: {run.info.run_id}, rmse: {run.data.metrics['rmse']:.4f}\")"
   ]
  },
  {
   "cell_type": "code",
   "execution_count": 16,
   "id": "8502e2a5",
   "metadata": {},
   "outputs": [
    {
     "name": "stderr",
     "output_type": "stream",
     "text": [
      "Successfully registered model 'nyc_taxi_regressor'.\n",
      "Created version '1' of model 'nyc_taxi_regressor'.\n"
     ]
    },
    {
     "data": {
      "text/plain": [
       "<ModelVersion: aliases=[], creation_timestamp=1748458687546, current_stage='None', description=None, last_updated_timestamp=1748458687546, name='nyc_taxi_regressor', run_id='504482ca54cd471ebf1aec6e3b5fcaf8', run_link=None, source=('/mnt/e/Machine_Learning_Projects/mlops_zoomcamp/02. Experiment '\n",
       " 'Tracking/mlruns/1/504482ca54cd471ebf1aec6e3b5fcaf8/artifacts/ml_models'), status='READY', status_message=None, tags={}, user_id=None, version=1>"
      ]
     },
     "execution_count": 16,
     "metadata": {},
     "output_type": "execute_result"
    }
   ],
   "source": [
    "import mlflow\n",
    "\n",
    "# registering the Lasso reg model from other notebook\n",
    "run_id = \"504482ca54cd471ebf1aec6e3b5fcaf8\"\n",
    "model_uri = f\"runs:/504482ca54cd471ebf1aec6e3b5fcaf8/ml_models\"\n",
    "\n",
    "mlflow.register_model(model_uri=model_uri, name=\"nyc_taxi_regressor\")\n"
   ]
  },
  {
   "cell_type": "code",
   "execution_count": 2,
   "id": "ff87420b",
   "metadata": {},
   "outputs": [
    {
     "name": "stdout",
     "output_type": "stream",
     "text": [
      "version: 1, stage: Production\n"
     ]
    },
    {
     "name": "stderr",
     "output_type": "stream",
     "text": [
      "/tmp/ipykernel_21551/1267652280.py:4: FutureWarning: ``mlflow.tracking.client.MlflowClient.get_latest_versions`` is deprecated since 2.9.0. Model registry stages will be removed in a future major release. To learn more about the deprecation of model registry stages, see our migration guide here: https://mlflow.org/docs/latest/model-registry.html#migrating-from-stages\n",
      "  latest_versions = client.get_latest_versions(name=model_name)\n"
     ]
    }
   ],
   "source": [
    "# getting the versions of registered model \n",
    "\n",
    "model_name = \"nyc_taxi_regressor\" \n",
    "latest_versions = client.get_latest_versions(name=model_name)\n",
    "\n",
    "for version in latest_versions:\n",
    "    print(f\"version: {version.version}, stage: {version.current_stage}\")"
   ]
  },
  {
   "cell_type": "code",
   "execution_count": 3,
   "id": "39828b0b",
   "metadata": {},
   "outputs": [
    {
     "name": "stderr",
     "output_type": "stream",
     "text": [
      "/tmp/ipykernel_21551/1182954759.py:6: FutureWarning: ``mlflow.tracking.client.MlflowClient.transition_model_version_stage`` is deprecated since 2.9.0. Model registry stages will be removed in a future major release. To learn more about the deprecation of model registry stages, see our migration guide here: https://mlflow.org/docs/latest/model-registry.html#migrating-from-stages\n",
      "  client.transition_model_version_stage(\n"
     ]
    },
    {
     "data": {
      "text/plain": [
       "<ModelVersion: aliases=[], creation_timestamp=1748458687546, current_stage='Staging', description=None, last_updated_timestamp=1748551066046, name='nyc_taxi_regressor', run_id='504482ca54cd471ebf1aec6e3b5fcaf8', run_link=None, source=('/mnt/e/Machine_Learning_Projects/mlops_zoomcamp/02. Experiment '\n",
       " 'Tracking/mlruns/1/504482ca54cd471ebf1aec6e3b5fcaf8/artifacts/ml_models'), status='READY', status_message=None, tags={}, user_id=None, version=1>"
      ]
     },
     "execution_count": 3,
     "metadata": {},
     "output_type": "execute_result"
    }
   ],
   "source": [
    "# to transition the stage of any version of model \n",
    "\n",
    "model_version = 1\n",
    "new_stage = \"Staging\"\n",
    "\n",
    "client.transition_model_version_stage(\n",
    "    name=model_name,\n",
    "    version=model_version,\n",
    "    stage=new_stage,\n",
    "    archive_existing_versions=True\n",
    ")"
   ]
  },
  {
   "cell_type": "code",
   "execution_count": 4,
   "id": "56d54891",
   "metadata": {},
   "outputs": [
    {
     "data": {
      "text/plain": [
       "<ModelVersion: aliases=[], creation_timestamp=1748458687546, current_stage='Staging', description='The model version 1 was transitioned to Staging on 2025-05-29', last_updated_timestamp=1748551698237, name='nyc_taxi_regressor', run_id='504482ca54cd471ebf1aec6e3b5fcaf8', run_link=None, source=('/mnt/e/Machine_Learning_Projects/mlops_zoomcamp/02. Experiment '\n",
       " 'Tracking/mlruns/1/504482ca54cd471ebf1aec6e3b5fcaf8/artifacts/ml_models'), status='READY', status_message=None, tags={}, user_id=None, version=1>"
      ]
     },
     "execution_count": 4,
     "metadata": {},
     "output_type": "execute_result"
    }
   ],
   "source": [
    "# if we need to update any of model version, we can use this function \n",
    "\n",
    "from datetime import datetime\n",
    "\n",
    "date = datetime.today().date()\n",
    "client.update_model_version(\n",
    "    name=model_name,\n",
    "    version=model_version,\n",
    "    description=f\"The model version {model_version} was transitioned to {new_stage} on {date}\"\n",
    ")"
   ]
  },
  {
   "cell_type": "code",
   "execution_count": null,
   "id": "6e8d7381",
   "metadata": {},
   "outputs": [],
   "source": []
  }
 ],
 "metadata": {
  "kernelspec": {
   "display_name": "exp_track_env",
   "language": "python",
   "name": "python3"
  },
  "language_info": {
   "codemirror_mode": {
    "name": "ipython",
    "version": 3
   },
   "file_extension": ".py",
   "mimetype": "text/x-python",
   "name": "python",
   "nbconvert_exporter": "python",
   "pygments_lexer": "ipython3",
   "version": "3.13.2"
  }
 },
 "nbformat": 4,
 "nbformat_minor": 5
}
